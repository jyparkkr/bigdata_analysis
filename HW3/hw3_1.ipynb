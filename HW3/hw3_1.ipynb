{
 "cells": [
  {
   "cell_type": "code",
   "execution_count": 1,
   "metadata": {},
   "outputs": [],
   "source": [
    "import numpy as np\n",
    "from numpy import linalg as LA\n",
    "\n",
    "import sys\n",
    "import re\n",
    "from pyspark import SparkConf, SparkContext"
   ]
  },
  {
   "cell_type": "code",
   "execution_count": 2,
   "metadata": {},
   "outputs": [],
   "source": [
    "conf = SparkConf()\n",
    "sc = SparkContext(conf=conf)\n",
    "sc.setLogLevel('WARN')\n",
    "\n",
    "loc = \"./graph.txt\"\n",
    "#loc = sys.argv[1]\n"
   ]
  },
  {
   "cell_type": "code",
   "execution_count": 3,
   "metadata": {},
   "outputs": [],
   "source": [
    "beta = 0.9\n",
    "n = 1000"
   ]
  },
  {
   "cell_type": "code",
   "execution_count": 4,
   "metadata": {},
   "outputs": [],
   "source": [
    "lines = sc.textFile(loc, 1)\n",
    "line1 = lines.map(lambda l: re.split('\\t',l))\n",
    "line2 = line1.map(lambda x: (int(x[0]), int(x[1]))).distinct()\n",
    "graph = line2.collect()"
   ]
  },
  {
   "cell_type": "code",
   "execution_count": 5,
   "metadata": {},
   "outputs": [],
   "source": [
    "M = np.zeros((n, n), dtype = float)\n",
    "\n",
    "for i in graph:\n",
    "    M[i[1]-1, i[0]-1] = 1"
   ]
  },
  {
   "cell_type": "markdown",
   "metadata": {},
   "source": [
    "Index of graph is 1 to 1000, but numpy array starts from 0."
   ]
  },
  {
   "cell_type": "code",
   "execution_count": 6,
   "metadata": {},
   "outputs": [],
   "source": [
    "num_linked = list()\n",
    "for vec in M.transpose():\n",
    "    c = 0\n",
    "    for i in vec:\n",
    "        if i==1:\n",
    "            c+=1\n",
    "    num_linked.append(c)"
   ]
  },
  {
   "cell_type": "code",
   "execution_count": 7,
   "metadata": {},
   "outputs": [],
   "source": [
    "for i in range(n):\n",
    "    M[:,i] /= num_linked[i]"
   ]
  },
  {
   "cell_type": "markdown",
   "metadata": {},
   "source": [
    "# Method #1, Using Pyspark"
   ]
  },
  {
   "cell_type": "code",
   "execution_count": 8,
   "metadata": {},
   "outputs": [],
   "source": [
    "Mat = sc.parallelize(M)"
   ]
  },
  {
   "cell_type": "code",
   "execution_count": 9,
   "metadata": {},
   "outputs": [],
   "source": [
    "count = 0\n",
    "_v = np.ones((n, 1), dtype = float) / n\n",
    "while(count < 50):\n",
    "    vec = Mat.flatMap(lambda m: np.matmul(m, _v))\n",
    "    vec_list = vec.collect()\n",
    "    _v = np.asarray(vec_list)\n",
    "    _v.shape = (1000, 1)\n",
    "    count += 1"
   ]
  },
  {
   "cell_type": "code",
   "execution_count": 10,
   "metadata": {},
   "outputs": [],
   "source": [
    "sc.stop()"
   ]
  },
  {
   "cell_type": "markdown",
   "metadata": {},
   "source": [
    "# Method #2, Not using Pyspark"
   ]
  },
  {
   "cell_type": "code",
   "execution_count": 11,
   "metadata": {},
   "outputs": [],
   "source": [
    "v = np.ones((n, 1), dtype = float) / n\n",
    "e = np.ones((n, 1), dtype = float)"
   ]
  },
  {
   "cell_type": "code",
   "execution_count": 12,
   "metadata": {},
   "outputs": [],
   "source": [
    "count = 0\n",
    "while(count < 50):\n",
    "    nextv = beta * np.matmul(M, v) + (1 - beta) * e / n\n",
    "    v = nextv\n",
    "    count +=1"
   ]
  },
  {
   "cell_type": "markdown",
   "metadata": {},
   "source": [
    "# Postprocessing"
   ]
  },
  {
   "cell_type": "code",
   "execution_count": 13,
   "metadata": {},
   "outputs": [],
   "source": [
    "result1 = list()\n",
    "for i in range(n):\n",
    "    result1.append((i+1, v[i][0]))"
   ]
  },
  {
   "cell_type": "code",
   "execution_count": 14,
   "metadata": {},
   "outputs": [],
   "source": [
    "sorted_result1 = sorted(result1, key = lambda x: x[1], reverse=True)"
   ]
  },
  {
   "cell_type": "code",
   "execution_count": 15,
   "metadata": {},
   "outputs": [],
   "source": [
    "result2 = list()\n",
    "for i in range(n):\n",
    "    result2.append((i+1, _v[i][0]))"
   ]
  },
  {
   "cell_type": "code",
   "execution_count": 16,
   "metadata": {},
   "outputs": [],
   "source": [
    "sorted_result2 = sorted(result2, key = lambda x: x[1], reverse=True)"
   ]
  },
  {
   "cell_type": "code",
   "execution_count": 17,
   "metadata": {},
   "outputs": [],
   "source": [
    "#for i in range(10):\n",
    "#    print(sorted_result1[i][0], '\\t', sorted_result1[i][1])"
   ]
  },
  {
   "cell_type": "code",
   "execution_count": 18,
   "metadata": {
    "scrolled": true
   },
   "outputs": [
    {
     "name": "stdout",
     "output_type": "stream",
     "text": [
      "537 \t 0.002317768147392944\n",
      "263 \t 0.0022954975147433778\n",
      "965 \t 0.0021890105523848747\n",
      "243 \t 0.0020974242493302965\n",
      "255 \t 0.0020787314135073233\n",
      "285 \t 0.0020349676456453887\n",
      "16 \t 0.002029053713720983\n",
      "736 \t 0.0020093037888945747\n",
      "747 \t 0.0020080350790072105\n",
      "126 \t 0.001991457813337111\n"
     ]
    }
   ],
   "source": [
    "for i in range(10):\n",
    "    print(sorted_result2[i][0], '\\t', sorted_result2[i][1])"
   ]
  },
  {
   "cell_type": "code",
   "execution_count": null,
   "metadata": {},
   "outputs": [],
   "source": []
  }
 ],
 "metadata": {
  "kernelspec": {
   "display_name": "Python 3",
   "language": "python",
   "name": "python3"
  },
  "language_info": {
   "codemirror_mode": {
    "name": "ipython",
    "version": 3
   },
   "file_extension": ".py",
   "mimetype": "text/x-python",
   "name": "python",
   "nbconvert_exporter": "python",
   "pygments_lexer": "ipython3",
   "version": "3.7.1"
  }
 },
 "nbformat": 4,
 "nbformat_minor": 2
}
