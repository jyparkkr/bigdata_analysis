{
 "cells": [
  {
   "cell_type": "code",
   "execution_count": 1,
   "metadata": {},
   "outputs": [],
   "source": [
    "import numpy as np\n",
    "from numpy import linalg as LA\n",
    "\n",
    "import sys\n",
    "import re\n",
    "from pyspark import SparkConf, SparkContext"
   ]
  },
  {
   "cell_type": "code",
   "execution_count": 2,
   "metadata": {},
   "outputs": [],
   "source": [
    "conf = SparkConf()\n",
    "sc = SparkContext(conf=conf)\n",
    "sc.setLogLevel('WARN')\n",
    "\n",
    "loc = \"./graph.txt\"\n",
    "#loc = sys.argv[1]\n"
   ]
  },
  {
   "cell_type": "code",
   "execution_count": 3,
   "metadata": {},
   "outputs": [],
   "source": [
    "n = 1000"
   ]
  },
  {
   "cell_type": "code",
   "execution_count": 4,
   "metadata": {},
   "outputs": [],
   "source": [
    "lines = sc.textFile(loc, 1)\n",
    "line1 = lines.map(lambda l: re.split('\\t',l))\n",
    "line2 = line1.map(lambda x: (int(x[0]), int(x[1]))).distinct()\n",
    "graph = line2.collect()"
   ]
  },
  {
   "cell_type": "code",
   "execution_count": 11,
   "metadata": {},
   "outputs": [],
   "source": [
    "L = np.zeros((n, n), dtype = float)\n",
    "\n",
    "for i in graph:\n",
    "    L[i[0]-1, i[1]-1] = 1"
   ]
  },
  {
   "cell_type": "code",
   "execution_count": 12,
   "metadata": {},
   "outputs": [],
   "source": [
    "Lt = L.transpose()"
   ]
  },
  {
   "cell_type": "code",
   "execution_count": 13,
   "metadata": {},
   "outputs": [
    {
     "data": {
      "text/plain": [
       "array([[0., 1., 0., ..., 0., 0., 0.],\n",
       "       [0., 0., 1., ..., 0., 0., 0.],\n",
       "       [0., 0., 0., ..., 0., 0., 0.],\n",
       "       ...,\n",
       "       [0., 0., 0., ..., 0., 1., 0.],\n",
       "       [0., 0., 0., ..., 0., 0., 1.],\n",
       "       [1., 0., 0., ..., 0., 0., 0.]])"
      ]
     },
     "execution_count": 13,
     "metadata": {},
     "output_type": "execute_result"
    }
   ],
   "source": [
    "L"
   ]
  },
  {
   "cell_type": "markdown",
   "metadata": {},
   "source": [
    "# Using Spark"
   ]
  },
  {
   "cell_type": "code",
   "execution_count": 14,
   "metadata": {},
   "outputs": [],
   "source": [
    "_L = sc.parallelize(L)\n",
    "_Lt = sc.parallelize(Lt)"
   ]
  },
  {
   "cell_type": "code",
   "execution_count": 15,
   "metadata": {},
   "outputs": [],
   "source": [
    "count = 0\n",
    "_h = np.ones((n, 1), dtype = float)\n",
    "\n",
    "while(count < 50):\n",
    "    vec1 = _L.flatMap(lambda x: np.matmul(x, _h))\n",
    "    a = vec1.collect()\n",
    "    _a = np.asarray(a)\n",
    "    _a = _a / np.max(_a)\n",
    "    _a.shape = (1000, 1)\n",
    "    vec2 = _Lt.flatMap(lambda x: np.matmul(x, _a))\n",
    "    h = vec2.collect()\n",
    "    _h = np.asarray(h)\n",
    "    _h = _h / np.max(_h)\n",
    "    _h.shape = (1000, 1)\n",
    "    count += 1"
   ]
  },
  {
   "cell_type": "markdown",
   "metadata": {},
   "source": [
    "# Postprocessing"
   ]
  },
  {
   "cell_type": "code",
   "execution_count": 16,
   "metadata": {},
   "outputs": [],
   "source": [
    "h_result = list()\n",
    "a_result = list()\n",
    "for i in range(n):\n",
    "    h_result.append((i+1, _h[i][0]))\n",
    "    a_result.append((i+1, _a[i][0]))"
   ]
  },
  {
   "cell_type": "code",
   "execution_count": 17,
   "metadata": {},
   "outputs": [],
   "source": [
    "sorted_h_result = sorted(h_result, key = lambda x: x[1], reverse = True)\n",
    "sorted_a_result = sorted(a_result, key = lambda x: x[1], reverse = True)"
   ]
  },
  {
   "cell_type": "code",
   "execution_count": 18,
   "metadata": {},
   "outputs": [
    {
     "name": "stdout",
     "output_type": "stream",
     "text": [
      "893 \t 1.0\n",
      "16 \t 0.9635572849634396\n",
      "799 \t 0.9510158161074016\n",
      "146 \t 0.9246703586198441\n",
      "473 \t 0.8998661973604047\n",
      "624 \t 0.8922197517765468\n",
      "533 \t 0.8832413304913613\n",
      "780 \t 0.8800357843384586\n",
      "494 \t 0.8749884615072088\n",
      "130 \t 0.8465465351844075\n"
     ]
    }
   ],
   "source": [
    "for i in range(10):\n",
    "    print(sorted_h_result[i][0], '\\t', sorted_h_result[i][1])"
   ]
  },
  {
   "cell_type": "code",
   "execution_count": 19,
   "metadata": {},
   "outputs": [
    {
     "name": "stdout",
     "output_type": "stream",
     "text": [
      "840 \t 1.0\n",
      "155 \t 0.9499618624906542\n",
      "234 \t 0.8986645288972261\n",
      "389 \t 0.8634171101843788\n",
      "472 \t 0.8632841092495215\n",
      "444 \t 0.8229716669865107\n",
      "666 \t 0.8007139982829948\n",
      "499 \t 0.7966145570824411\n",
      "737 \t 0.7746877622644929\n",
      "137 \t 0.7715148677313686\n"
     ]
    }
   ],
   "source": [
    "for i in range(10):\n",
    "    print(sorted_a_result[i][0], '\\t', sorted_a_result[i][1])"
   ]
  }
 ],
 "metadata": {
  "kernelspec": {
   "display_name": "Python 3",
   "language": "python",
   "name": "python3"
  },
  "language_info": {
   "codemirror_mode": {
    "name": "ipython",
    "version": 3
   },
   "file_extension": ".py",
   "mimetype": "text/x-python",
   "name": "python",
   "nbconvert_exporter": "python",
   "pygments_lexer": "ipython3",
   "version": "3.6.3"
  }
 },
 "nbformat": 4,
 "nbformat_minor": 2
}
