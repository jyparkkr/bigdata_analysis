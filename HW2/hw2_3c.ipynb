{
 "cells": [
  {
   "cell_type": "code",
   "execution_count": 1,
   "metadata": {},
   "outputs": [],
   "source": [
    "import sys\n",
    "import re\n",
    "import os\n",
    "import numpy as np\n",
    "import math"
   ]
  },
  {
   "cell_type": "code",
   "execution_count": 2,
   "metadata": {},
   "outputs": [],
   "source": [
    "loc1 = \"ratings.txt\"\n",
    "loc2 = \"ratings_test.txt\"\n",
    "#loc1 = sys.argv[1]\n",
    "#loc2 = sys.argv[2]\n"
   ]
  },
  {
   "cell_type": "code",
   "execution_count": 3,
   "metadata": {},
   "outputs": [],
   "source": [
    "train = open(loc1, \"r\")\n",
    "train_data = np.genfromtxt(train, delimiter=',') # remove <TIMESTAMP>\n",
    "train.close()\n",
    "test = open(loc2, \"r\")\n",
    "test_data = np.genfromtxt(test, delimiter=',') # remove <TIMESTAMP>\n",
    "test.close()"
   ]
  },
  {
   "cell_type": "code",
   "execution_count": 4,
   "metadata": {},
   "outputs": [],
   "source": [
    "users_train = list()\n",
    "for i in train_data:\n",
    "    if i[0] not in users_train:\n",
    "        users_train.append(int(i[0]))\n",
    "users_train.sort()\n",
    "\n",
    "movies_train = list()\n",
    "for i in train_data:\n",
    "    if i[1] not in movies_train:\n",
    "        movies_train.append(int(i[1]))\n",
    "movies_train.sort()"
   ]
  },
  {
   "cell_type": "code",
   "execution_count": 5,
   "metadata": {},
   "outputs": [],
   "source": [
    "users_test = list()\n",
    "for i in train_data:\n",
    "    if i[0] not in users_test:\n",
    "        users_test.append(int(i[0]))\n",
    "users_test.sort()\n",
    "\n",
    "movies_test = list()\n",
    "for i in test_data:\n",
    "    if i[1] not in movies_train:\n",
    "        movies_test.append(int(i[1]))\n",
    "movies_test.sort()"
   ]
  },
  {
   "cell_type": "code",
   "execution_count": 6,
   "metadata": {},
   "outputs": [],
   "source": [
    "users = list(set(users_train).union(set(users_test)))\n",
    "movies = list(set(movies_train).union(set(movies_test)))"
   ]
  },
  {
   "cell_type": "code",
   "execution_count": 7,
   "metadata": {},
   "outputs": [],
   "source": [
    "rating = np.zeros((len(users), len(movies)))\n",
    "output_list = list() # to append timestamp"
   ]
  },
  {
   "cell_type": "code",
   "execution_count": 8,
   "metadata": {},
   "outputs": [],
   "source": [
    "for i in train_data:\n",
    "    user_idx = users.index(int(i[0]))\n",
    "    movie_idx = movies.index(int(i[1]))\n",
    "    rating[user_idx][movie_idx] = i[2]\n",
    "    \n",
    "for i in test_data:\n",
    "    user_idx = users.index(int(i[0]))\n",
    "    movie_idx = movies.index(int(i[1]))\n",
    "    rating[user_idx][movie_idx] = i[2]\n",
    "    \n",
    "    output_list.append(((int(i[0]), int(i[1])), i[3]))\n",
    "\n",
    "normed_rating = np.zeros((len(users), len(movies)))\n",
    "\n",
    "for i in range(len(users)):\n",
    "    sq = np.sum(rating[i][np.invert(np.isnan(rating[i]))] ** 2)\n",
    "    s = np.sum(rating[i][np.invert(np.isnan(rating[i]))])\n",
    "    c = np.count_nonzero(rating[i][np.invert(np.isnan(rating[i]))])\n",
    "    avg = s / c\n",
    "    sq_avg = sq / c\n",
    "    std = math.sqrt(sq_avg - math.pow(avg, 2))\n",
    "    for j in range(len(movies)):\n",
    "        elem = rating[i][j]\n",
    "        if (elem != 0):\n",
    "            normed_rating[i][j] =  (elem - avg) / std\n",
    "        if (np.isnan(elem)):\n",
    "            normed_rating[i][j] =  np.nan"
   ]
  },
  {
   "cell_type": "code",
   "execution_count": 9,
   "metadata": {},
   "outputs": [],
   "source": [
    "def cos_distance(x, y):\n",
    "    x_nan = np.invert(np.isnan(x))\n",
    "    y_nan = np.invert(np.isnan(y))\n",
    "    not_nan = x_nan * y_nan\n",
    "    x = x[not_nan]\n",
    "    y = y[not_nan]\n",
    "    cos_sim = np.dot(x, y) / (np.sqrt(np.dot(x, x) * np.dot(y, y)))\n",
    "    return np.arccos(cos_sim) # return as radian"
   ]
  },
  {
   "cell_type": "code",
   "execution_count": 10,
   "metadata": {},
   "outputs": [],
   "source": [
    "normed_rating_backup = normed_rating.tolist()"
   ]
  },
  {
   "cell_type": "code",
   "execution_count": 11,
   "metadata": {},
   "outputs": [],
   "source": [
    "normed_rating = np.asarray(normed_rating_backup)"
   ]
  },
  {
   "cell_type": "code",
   "execution_count": 12,
   "metadata": {},
   "outputs": [],
   "source": [
    "def similar_users(i, n): # i is index of target user, n is number of similar user wanted\n",
    "    dist_list = list()\n",
    "    normed_target = normed_rating[i]\n",
    "    for normed_user in normed_rating:\n",
    "        dist = cos_distance(normed_target, normed_user)\n",
    "        dist_list.append(dist)\n",
    "    sorted_dist_list = sorted(dist_list)\n",
    "    sim_users = list()\n",
    "    for i in range(1, n+1):\n",
    "        user_idx = dist_list.index(sorted_dist_list[i])\n",
    "        sim_users.append(rating[user_idx])\n",
    "    nparray = np.asarray(sim_users)\n",
    "    return nparray # numpy array of similar users in ascending order"
   ]
  },
  {
   "cell_type": "code",
   "execution_count": 13,
   "metadata": {},
   "outputs": [],
   "source": [
    "rating_predicted = list()\n",
    "for i in range(len(users)):\n",
    "    similar_users_list = similar_users(i, 7)\n",
    "    likes = np.transpose(similar_users_list)\n",
    "    for j in range(len(movies)):\n",
    "        likes_movie = likes[j]\n",
    "        elem = rating[i][j]\n",
    "        if (np.isnan(elem)):\n",
    "            s = np.sum(likes_movie[np.invert(np.isnan(likes_movie))])\n",
    "            c = np.count_nonzero(likes_movie[np.invert(np.isnan(likes_movie))])\n",
    "            user_idx = users[i]\n",
    "            movie_idx = movies[j]\n",
    "            if(c!=0):\n",
    "                predict = s/c\n",
    "            else: # result is average of rating given by user\n",
    "                ss = np.sum(rating[i][np.invert(np.isnan(rating[i]))])\n",
    "                cc = np.count_nonzero(rating[i][np.invert(np.isnan(rating[i]))])\n",
    "                if cc!=0:\n",
    "                    predict = ss / cc\n",
    "                else:\n",
    "                    predict = 2.5\n",
    "            rating_predicted.append(((user_idx, movie_idx), predict))"
   ]
  },
  {
   "cell_type": "code",
   "execution_count": 14,
   "metadata": {},
   "outputs": [],
   "source": [
    "def save(filename, contents):\n",
    "    fh = open(filename, 'w')\n",
    "    fh.write(contents)\n",
    "    fh.close()"
   ]
  },
  {
   "cell_type": "code",
   "execution_count": 15,
   "metadata": {},
   "outputs": [],
   "source": [
    "st = str()\n",
    "for i in output_list:\n",
    "    match = list(filter(lambda j: i[0]==j[0], rating_predicted))\n",
    "    user = i[0][0]\n",
    "    movie = i[0][1]\n",
    "    rating = match[0][1]\n",
    "    timestamp = int(i[1])\n",
    "    st+=str(user)\n",
    "    st+=str(',')\n",
    "    st+=str(movie)\n",
    "    st+=str(',')\n",
    "    st+=str(rating)\n",
    "    st+=str(',')\n",
    "    st+=str(timestamp)\n",
    "    st+=str('\\n')\n",
    "\n",
    "save('output.txt', st)\n"
   ]
  }
 ],
 "metadata": {
  "kernelspec": {
   "display_name": "Python 3",
   "language": "python",
   "name": "python3"
  },
  "language_info": {
   "codemirror_mode": {
    "name": "ipython",
    "version": 3
   },
   "file_extension": ".py",
   "mimetype": "text/x-python",
   "name": "python",
   "nbconvert_exporter": "python",
   "pygments_lexer": "ipython3",
   "version": "3.6.3"
  }
 },
 "nbformat": 4,
 "nbformat_minor": 2
}
