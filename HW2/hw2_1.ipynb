{
 "cells": [
  {
   "cell_type": "code",
   "execution_count": 1,
   "metadata": {},
   "outputs": [],
   "source": [
    "import sys\n",
    "import os\n",
    "import numpy as np\n",
    "import math\n",
    "from pyspark import SparkConf, SparkContext"
   ]
  },
  {
   "cell_type": "code",
   "execution_count": 2,
   "metadata": {},
   "outputs": [],
   "source": [
    "km = open(\"kmeans.txt\", 'r')\n",
    "k = 7 ## number wanted for k-mean\n",
    "initial_data = np.loadtxt(km)\n",
    "km.close()"
   ]
  },
  {
   "cell_type": "code",
   "execution_count": 4,
   "metadata": {},
   "outputs": [],
   "source": [
    "def get_distance(a, b):\n",
    "    if len(a)!=len(b):\n",
    "        return 0\n",
    "    l = len(a)\n",
    "    d = 0\n",
    "    for i in range(l):\n",
    "        d = d + (a[i] - b[i])**2\n",
    "    return math.sqrt(d)"
   ]
  },
  {
   "cell_type": "code",
   "execution_count": 5,
   "metadata": {},
   "outputs": [],
   "source": [
    "def find_far_point(datasets, points):\n",
    "    check = list()\n",
    "    for d in datasets:\n",
    "        dist = np.inf\n",
    "        for p in points:\n",
    "            dist = min(dist, get_distance(d, p))\n",
    "        check.append(dist)\n",
    "    #print(max(check))\n",
    "    return check.index(max(check))"
   ]
  },
  {
   "cell_type": "code",
   "execution_count": 6,
   "metadata": {},
   "outputs": [],
   "source": [
    "def modify_centroids(datasets, points, idx):\n",
    "    selected = np.array(datasets[idx], dtype=np.float64)\n",
    "    selected.shape = 1, 58\n",
    "    new_points = np.vstack([points, selected])\n",
    "    return new_points  "
   ]
  },
  {
   "cell_type": "code",
   "execution_count": 7,
   "metadata": {},
   "outputs": [],
   "source": [
    "# picked point initialization\n",
    "initial_point = np.array(initial_data[0], dtype=np.float64)\n",
    "initial_point.shape = 1, 58\n",
    "#print(initial_point)"
   ]
  },
  {
   "cell_type": "code",
   "execution_count": 8,
   "metadata": {},
   "outputs": [],
   "source": [
    "data = initial_data\n",
    "centroids = initial_point\n",
    "\n",
    "for i in range(k-1):\n",
    "    idx = find_far_point(data, centroids)\n",
    "    centroids = modify_centroids(data, centroids, idx)\n",
    "    \n",
    "centroid_list = centroids.tolist()"
   ]
  },
  {
   "cell_type": "code",
   "execution_count": 9,
   "metadata": {},
   "outputs": [],
   "source": [
    "conf = SparkConf()\n",
    "sc = SparkContext(conf=conf)\n",
    "sc.setLogLevel('WARN')\n",
    "\n",
    "points = sc.parallelize(initial_data)"
   ]
  },
  {
   "cell_type": "code",
   "execution_count": 10,
   "metadata": {},
   "outputs": [],
   "source": [
    "p1 = points.map(lambda x: (x, -1)) # (point, index to centroid) # index -1 means not assigned yet"
   ]
  },
  {
   "cell_type": "code",
   "execution_count": 11,
   "metadata": {},
   "outputs": [],
   "source": [
    "# assign initial points which are suppose to be centroid\n",
    "def initial_assignment(x):\n",
    "    point = x[0].tolist()\n",
    "    idx = x[1]\n",
    "    if point in centroid_list:\n",
    "        idx = centroid_list.index(point)\n",
    "    return (x[0], idx)"
   ]
  },
  {
   "cell_type": "code",
   "execution_count": 12,
   "metadata": {},
   "outputs": [],
   "source": [
    "# assign to nearest point\n",
    "def assign_point(x):\n",
    "    point = x[0]\n",
    "    idx = x[1]\n",
    "    if(idx!=-1):\n",
    "        return (point, idx)\n",
    "    check = list()\n",
    "    for c in centroids:\n",
    "        dist = get_distance(c, point)\n",
    "        check.append(dist)\n",
    "    idx = check.index(min(check))\n",
    "    return (point, idx)"
   ]
  },
  {
   "cell_type": "code",
   "execution_count": 13,
   "metadata": {},
   "outputs": [],
   "source": [
    "p2 = p1.map(initial_assignment) # "
   ]
  },
  {
   "cell_type": "code",
   "execution_count": 14,
   "metadata": {},
   "outputs": [],
   "source": [
    "p3 = p2.map(assign_point)"
   ]
  },
  {
   "cell_type": "code",
   "execution_count": 15,
   "metadata": {},
   "outputs": [],
   "source": [
    "p4 = p3.map(lambda x: (x[1], x[0]))"
   ]
  },
  {
   "cell_type": "code",
   "execution_count": 16,
   "metadata": {},
   "outputs": [],
   "source": [
    "p5 = p4.groupByKey().mapValues(lambda x: list(x))"
   ]
  },
  {
   "cell_type": "code",
   "execution_count": 17,
   "metadata": {},
   "outputs": [],
   "source": [
    "def get_diameter(points):\n",
    "    diameter = 0\n",
    "    l = len(points)\n",
    "    for i in range(l):\n",
    "        for j in range(i+1, l):\n",
    "            diameter = max(diameter, get_distance(points[i],points[j]))\n",
    "    return diameter"
   ]
  },
  {
   "cell_type": "code",
   "execution_count": 18,
   "metadata": {},
   "outputs": [],
   "source": [
    "p6 = p5.map(lambda x: (x[0], get_diameter(x[1])))"
   ]
  },
  {
   "cell_type": "code",
   "execution_count": 19,
   "metadata": {},
   "outputs": [],
   "source": [
    "p7 = p6.map(lambda x: (0, x[1]))"
   ]
  },
  {
   "cell_type": "code",
   "execution_count": 20,
   "metadata": {},
   "outputs": [],
   "source": [
    "p8 = p7.reduceByKey(lambda u, v: u+v)"
   ]
  },
  {
   "cell_type": "code",
   "execution_count": 21,
   "metadata": {},
   "outputs": [],
   "source": [
    "dist = p8.collect()\n",
    "dist_sum = dist[0][1]\n",
    "dist_avg = dist_sum/k"
   ]
  },
  {
   "cell_type": "code",
   "execution_count": 22,
   "metadata": {},
   "outputs": [
    {
     "name": "stdout",
     "output_type": "stream",
     "text": [
      "7 :  1326.9455957023163\n"
     ]
    }
   ],
   "source": [
    "print(k, \": \",dist_avg)"
   ]
  },
  {
   "cell_type": "code",
   "execution_count": 23,
   "metadata": {},
   "outputs": [],
   "source": [
    "sc.stop()"
   ]
  },
  {
   "cell_type": "code",
   "execution_count": null,
   "metadata": {},
   "outputs": [],
   "source": []
  }
 ],
 "metadata": {
  "kernelspec": {
   "display_name": "Python 3",
   "language": "python",
   "name": "python3"
  },
  "language_info": {
   "codemirror_mode": {
    "name": "ipython",
    "version": 3
   },
   "file_extension": ".py",
   "mimetype": "text/x-python",
   "name": "python",
   "nbconvert_exporter": "python",
   "pygments_lexer": "ipython3",
   "version": "3.6.3"
  }
 },
 "nbformat": 4,
 "nbformat_minor": 2
}
