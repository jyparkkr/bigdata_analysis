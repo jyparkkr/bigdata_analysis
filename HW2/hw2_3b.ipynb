{
 "cells": [
  {
   "cell_type": "code",
   "execution_count": 1,
   "metadata": {},
   "outputs": [],
   "source": [
    "import sys\n",
    "import os\n",
    "import numpy as np\n",
    "import math"
   ]
  },
  {
   "cell_type": "code",
   "execution_count": 2,
   "metadata": {},
   "outputs": [],
   "source": [
    "loc = \"ratings.txt\"\n",
    "#loc = sys.argv[1]\n"
   ]
  },
  {
   "cell_type": "code",
   "execution_count": 3,
   "metadata": {},
   "outputs": [],
   "source": [
    "doc = open(loc, \"r\")\n",
    "initial_data = np.genfromtxt(doc, delimiter=',')[:,0:3] # remove <TIMESTAMP>\n",
    "doc.close()"
   ]
  },
  {
   "cell_type": "code",
   "execution_count": 4,
   "metadata": {},
   "outputs": [],
   "source": [
    "users = list()\n",
    "for i in initial_data:\n",
    "    if i[0] not in users:\n",
    "        users.append(int(i[0]))\n",
    "users.sort()\n"
   ]
  },
  {
   "cell_type": "code",
   "execution_count": 5,
   "metadata": {},
   "outputs": [],
   "source": [
    "movies = list()\n",
    "for i in initial_data:\n",
    "    if i[1] not in movies:\n",
    "        movies.append(int(i[1]))\n",
    "movies.sort()"
   ]
  },
  {
   "cell_type": "code",
   "execution_count": 6,
   "metadata": {},
   "outputs": [],
   "source": [
    "user_based = np.zeros((len(users), len(movies)))"
   ]
  },
  {
   "cell_type": "markdown",
   "metadata": {},
   "source": [
    "numpy matrix \"user_based\" and \"movie_based\" have rating of each movie for each user.\n",
    "Each row and column of \"user_based\" are (sorted) user and movie, and element of matrix is ratings.\n",
    "Each row and column of \"movie_based\" are (sorted) movie and user, and element of matrix is ratings.\n"
   ]
  },
  {
   "cell_type": "code",
   "execution_count": 7,
   "metadata": {},
   "outputs": [],
   "source": [
    "for i in initial_data:\n",
    "    user_idx = users.index(int(i[0]))\n",
    "    movie_idx = movies.index(int(i[1]))\n",
    "    user_based[user_idx][movie_idx] = i[2]\n",
    "\n",
    "normed_user_based = np.zeros((len(users), len(movies)))\n",
    "\n",
    "avg_list = list()\n",
    "for i in range(len(users)):\n",
    "    s = np.sum(user_based[i]) #sum of ratings\n",
    "    c = np.count_nonzero(user_based[i])\n",
    "    avg = s / c\n",
    "    avg_list.append(avg)\n",
    "    for j in range(len(movies)):\n",
    "        elem = user_based[i][j]\n",
    "        if (elem != 0):\n",
    "            normed_user_based[i][j] =  elem - avg"
   ]
  },
  {
   "cell_type": "code",
   "execution_count": 8,
   "metadata": {},
   "outputs": [],
   "source": [
    "movie_based = user_based.transpose()\n",
    "normed_movie_based = normed_user_based.transpose()"
   ]
  },
  {
   "cell_type": "code",
   "execution_count": 7,
   "metadata": {},
   "outputs": [],
   "source": [
    "def cos_distance(x, y):\n",
    "    num = np.dot(x, y)\n",
    "    denom = math.sqrt(np.dot(x, x) * np.dot(y, y))\n",
    "    if(denom!=0):\n",
    "        cos_sim = num / denom\n",
    "    else:\n",
    "        cos_sim = -1\n",
    "    try:\n",
    "        math.acos(cos_sim) # return as radian\n",
    "    except ValueError:\n",
    "        cos_sim = int(cos_sim) # while value is, for instance, 1.000001\n",
    "    return math.acos(cos_sim) # return as radian"
   ]
  },
  {
   "cell_type": "code",
   "execution_count": null,
   "metadata": {},
   "outputs": [],
   "source": []
  },
  {
   "cell_type": "code",
   "execution_count": null,
   "metadata": {},
   "outputs": [],
   "source": []
  },
  {
   "cell_type": "code",
   "execution_count": 14,
   "metadata": {},
   "outputs": [],
   "source": [
    "normed_user_based_backup = normed_user_based.tolist()"
   ]
  },
  {
   "cell_type": "code",
   "execution_count": 15,
   "metadata": {},
   "outputs": [],
   "source": [
    "normed_user_based = np.asarray(normed_user_based_backup)"
   ]
  },
  {
   "cell_type": "code",
   "execution_count": 16,
   "metadata": {},
   "outputs": [],
   "source": [
    "def similar_users(i): # i is index of target user\n",
    "    dist_list = list()\n",
    "    normed_target = normed_user_based[i]\n",
    "    for normed_user in normed_user_based:\n",
    "        dist = cos_distance(normed_target, normed_user)\n",
    "        dist_list.append(dist)\n",
    "    sorted_dist_list = sorted(dist_list)\n",
    "    sim_users = list()\n",
    "    for i in range(1, 11):\n",
    "        user_idx = dist_list.index(sorted_dist_list[i])\n",
    "        sim_users.append(user_based[user_idx])\n",
    "    nparray = np.asarray(sim_users)\n",
    "    return nparray # numpy array of similar users in ascending order"
   ]
  },
  {
   "cell_type": "code",
   "execution_count": 19,
   "metadata": {},
   "outputs": [],
   "source": [
    "user_predicted = user_based.copy()\n",
    "for i in range(len(users)):\n",
    "    similar_users_list = similar_users(i)\n",
    "    movie_based_similar_users = np.transpose(similar_users_list)\n",
    "    for j in range(len(movies)):\n",
    "        elem = user_predicted[i][j]\n",
    "        if (elem == 0):\n",
    "            s = np.sum(movie_based_similar_users[j]) #sum of ratings\n",
    "            c = np.count_nonzero(movie_based_similar_users[j])\n",
    "            if(c!=0):\n",
    "                user_predicted[i][j] = s/c\n",
    "        else:\n",
    "            user_predicted[i][j] = -1 # change original value to -1, remains only predicted value"
   ]
  },
  {
   "cell_type": "code",
   "execution_count": 22,
   "metadata": {},
   "outputs": [
    {
     "name": "stdout",
     "output_type": "stream",
     "text": [
      "User-based method\n",
      "175 \t 5.0\n",
      "261 \t 5.0\n",
      "440 \t 5.0\n",
      "480 \t 5.0\n",
      "527 \t 5.0\n",
      "832 \t 5.0\n",
      "899 \t 5.0\n",
      "50 \t 4.75\n",
      "904 \t 4.75\n",
      "7 \t 4.5\n"
     ]
    }
   ],
   "source": [
    "user_id = users.index(600)\n",
    "user_target_rating = (user_predicted[user_id]).tolist()\n",
    "user_original_rating = (user_based[user_id]).tolist()\n",
    "user_target_rating_sort = sorted(user_target_rating, reverse = True)\n",
    "\n",
    "print(\"User-based method\")\n",
    "i=0\n",
    "c=0\n",
    "while(c<10):\n",
    "    j = user_target_rating.index(user_target_rating_sort[i])\n",
    "    movie_id = movies[j]\n",
    "    if(j==len(movies)):\n",
    "        break\n",
    "    if(movie_id<=1000):\n",
    "        print(movie_id, '\\t', user_target_rating[j])\n",
    "        c+=1\n",
    "    user_target_rating[j]=0\n",
    "    i+=1\n",
    "## additional movies, e.g. 175, 261, 440, 480, 527, 832, 899 have their rating 5.0"
   ]
  },
  {
   "cell_type": "code",
   "execution_count": 23,
   "metadata": {},
   "outputs": [],
   "source": [
    "def similar_movies(i): # i is index of target movie\n",
    "    dist_list = list()\n",
    "    normed_target = normed_movie_based[i]\n",
    "    for normed_movie in normed_movie_based:\n",
    "        dist = cos_distance(normed_target, normed_movie)\n",
    "        dist_list.append(dist)\n",
    "    sorted_dist_list = sorted(dist_list)\n",
    "    sim_movies = list()\n",
    "    for i in range(1, 11):\n",
    "        movie_idx = dist_list.index(sorted_dist_list[i])\n",
    "        sim_movies.append(movie_based[movie_idx])\n",
    "    nparray = np.asarray(sim_movies)\n",
    "    return nparray # numpy array of similar users in ascending order"
   ]
  },
  {
   "cell_type": "code",
   "execution_count": 40,
   "metadata": {},
   "outputs": [
    {
     "data": {
      "text/plain": [
       "array([[ 0. ,  0. ,  0. , ...,  0. ,  2. ,  0. ],\n",
       "       [ 3. ,  4. ,  0. , ...,  3. ,  0. ,  0. ],\n",
       "       [ 3. ,  0. ,  0. , ...,  3. ,  3. ,  0. ],\n",
       "       ...,\n",
       "       [ 0. ,  0. ,  0. , ...,  0. ,  5. ,  0. ],\n",
       "       [-1. ,  0. ,  0. , ...,  0. ,  0. ,  0. ],\n",
       "       [-1. ,  0. ,  0. , ...,  4. ,  4.5,  0. ]])"
      ]
     },
     "execution_count": 40,
     "metadata": {},
     "output_type": "execute_result"
    }
   ],
   "source": [
    "movie_predicted = movie_based.copy()\n",
    "for i in range(len(movies)):\n",
    "    similar_movies_list = similar_movies(i)\n",
    "    user_based_similar_movies = np.transpose(similar_movies_list)\n",
    "    for j in range(len(users)):\n",
    "        elem = movie_predicted[i][j]\n",
    "        if (elem == 0):\n",
    "            s = np.sum(user_based_similar_movies[j]) #sum of ratings\n",
    "            c = np.count_nonzero(user_based_similar_movies[j])\n",
    "            if (c != 0):\n",
    "                movie_predicted[i][j] = s/c\n",
    "        else:\n",
    "            movie_predicted[i][j] = -1 # change original value to -1, remains only predicted value\n",
    "            \n",
    "movie_predicted.transpose()"
   ]
  },
  {
   "cell_type": "code",
   "execution_count": 44,
   "metadata": {},
   "outputs": [
    {
     "name": "stdout",
     "output_type": "stream",
     "text": [
      "Movie-based method\n",
      "21 \t 5.0\n",
      "59 \t 5.0\n",
      "60 \t 5.0\n",
      "85 \t 5.0\n",
      "132 \t 5.0\n",
      "175 \t 5.0\n",
      "198 \t 5.0\n",
      "203 \t 5.0\n",
      "228 \t 5.0\n",
      "231 \t 5.0\n",
      "244 \t 5.0\n",
      "384 \t 5.0\n",
      "412 \t 5.0\n",
      "444 \t 5.0\n",
      "481 \t 5.0\n",
      "690 \t 5.0\n",
      "711 \t 5.0\n",
      "718 \t 5.0\n",
      "799 \t 5.0\n",
      "832 \t 5.0\n",
      "489 \t 4.75\n",
      "349 \t 4.666666666666667\n",
      "493 \t 4.666666666666667\n",
      "42 \t 4.5\n",
      "126 \t 4.5\n",
      "215 \t 4.5\n",
      "314 \t 4.5\n",
      "459 \t 4.5\n",
      "465 \t 4.5\n",
      "483 \t 4.5\n",
      "630 \t 4.5\n",
      "782 \t 4.5\n",
      "818 \t 4.5\n",
      "334 \t 4.375\n",
      "482 \t 4.25\n",
      "520 \t 4.25\n",
      "743 \t 4.25\n",
      "19 \t 4.0\n",
      "23 \t 4.0\n",
      "74 \t 4.0\n",
      "108 \t 4.0\n",
      "111 \t 4.0\n",
      "237 \t 4.0\n",
      "292 \t 4.0\n",
      "305 \t 4.0\n",
      "325 \t 4.0\n",
      "347 \t 4.0\n",
      "356 \t 4.0\n",
      "362 \t 4.0\n",
      "475 \t 4.0\n"
     ]
    }
   ],
   "source": [
    "user_id = users.index(600)\n",
    "movie_target_rating = (movie_predicted[user_id]).tolist()\n",
    "movie_original_rating = (user_based[user_id]).tolist()\n",
    "movie_target_rating_sort = sorted(movie_target_rating, reverse = True)\n",
    "\n",
    "print(\"Movie-based method\")\n",
    "i=0\n",
    "c=0\n",
    "while(c<50):\n",
    "    j = movie_target_rating.index(movie_target_rating_sort[i])\n",
    "    movie_id = movies[j]\n",
    "    if(j==len(movies)):\n",
    "        break\n",
    "    if(movie_id<=1000):\n",
    "        print(movie_id, '\\t', movie_target_rating[j])\n",
    "        c+=1\n",
    "    movie_target_rating[j]=0\n",
    "    i+=1\n",
    "# also additional movies have their rating 5.0."
   ]
  },
  {
   "cell_type": "code",
   "execution_count": null,
   "metadata": {},
   "outputs": [],
   "source": []
  }
 ],
 "metadata": {
  "kernelspec": {
   "display_name": "Python 3",
   "language": "python",
   "name": "python3"
  },
  "language_info": {
   "codemirror_mode": {
    "name": "ipython",
    "version": 3
   },
   "file_extension": ".py",
   "mimetype": "text/x-python",
   "name": "python",
   "nbconvert_exporter": "python",
   "pygments_lexer": "ipython3",
   "version": "3.6.3"
  }
 },
 "nbformat": 4,
 "nbformat_minor": 2
}
