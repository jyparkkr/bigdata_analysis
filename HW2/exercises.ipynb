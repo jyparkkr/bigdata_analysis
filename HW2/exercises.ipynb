{
 "cells": [
  {
   "cell_type": "code",
   "execution_count": 245,
   "metadata": {},
   "outputs": [],
   "source": [
    "import numpy as np\n",
    "from numpy import linalg as LA\n",
    "import math"
   ]
  },
  {
   "cell_type": "code",
   "execution_count": 473,
   "metadata": {},
   "outputs": [],
   "source": [
    "m = W #m = next_m"
   ]
  },
  {
   "cell_type": "code",
   "execution_count": 476,
   "metadata": {},
   "outputs": [],
   "source": [
    "result = np.matmul(m.transpose(), m)"
   ]
  },
  {
   "cell_type": "code",
   "execution_count": 477,
   "metadata": {},
   "outputs": [
    {
     "data": {
      "text/plain": [
       "array([[1, 0],\n",
       "       [0, 4]])"
      ]
     },
     "execution_count": 477,
     "metadata": {},
     "output_type": "execute_result"
    }
   ],
   "source": [
    "result"
   ]
  },
  {
   "cell_type": "code",
   "execution_count": 454,
   "metadata": {},
   "outputs": [],
   "source": [
    "m = next_m\n",
    "d = 1\n",
    "threshold = 0.0001"
   ]
  },
  {
   "cell_type": "code",
   "execution_count": 455,
   "metadata": {},
   "outputs": [],
   "source": [
    "x = np.array([[1]\\\n",
    "             ,[1]])\n",
    "\n",
    "while(d > threshold):\n",
    "    next_x = np.matmul(m, x) / LA.norm(np.matmul(m, x))\n",
    "    d = LA.norm(np.subtract(next_x, x))\n",
    "    x = next_x\n",
    "    "
   ]
  },
  {
   "cell_type": "code",
   "execution_count": 456,
   "metadata": {},
   "outputs": [
    {
     "data": {
      "text/plain": [
       "array([[ 9.99999998e-01],\n",
       "       [-6.10351560e-05]])"
      ]
     },
     "execution_count": 456,
     "metadata": {},
     "output_type": "execute_result"
    }
   ],
   "source": [
    "x"
   ]
  },
  {
   "cell_type": "code",
   "execution_count": 438,
   "metadata": {},
   "outputs": [],
   "source": [
    "x = np.array([[0, 1]\n",
    "             ,[1, 0]])"
   ]
  },
  {
   "cell_type": "code",
   "execution_count": 439,
   "metadata": {},
   "outputs": [],
   "source": [
    "y = np.array([[0.70710678],\n",
    "              [0.70710678]])"
   ]
  },
  {
   "cell_type": "code",
   "execution_count": 472,
   "metadata": {},
   "outputs": [],
   "source": [
    "U = np.array([[1, 0]\n",
    "              ,[0, 1/4]])"
   ]
  },
  {
   "cell_type": "code",
   "execution_count": 451,
   "metadata": {},
   "outputs": [],
   "source": [
    "lamb = np.matmul(x.transpose(), np.matmul(m, x))"
   ]
  },
  {
   "cell_type": "code",
   "execution_count": 452,
   "metadata": {},
   "outputs": [
    {
     "data": {
      "text/plain": [
       "array([[4.]])"
      ]
     },
     "execution_count": 452,
     "metadata": {},
     "output_type": "execute_result"
    }
   ],
   "source": [
    "lamb"
   ]
  },
  {
   "cell_type": "code",
   "execution_count": 405,
   "metadata": {},
   "outputs": [
    {
     "name": "stdout",
     "output_type": "stream",
     "text": [
      "3.999999999301508\n"
     ]
    }
   ],
   "source": [
    "eigenvalue = lamb[0][0]\n",
    "print(eigenvalue)"
   ]
  },
  {
   "cell_type": "code",
   "execution_count": 406,
   "metadata": {},
   "outputs": [],
   "source": [
    "next_m = np.subtract(m, eigenvalue*np.matmul(x, x.transpose()))"
   ]
  },
  {
   "cell_type": "code",
   "execution_count": 407,
   "metadata": {},
   "outputs": [
    {
     "data": {
      "text/plain": [
       "array([[ 9.99999999e-01, -6.10351562e-05],\n",
       "       [-6.10351562e-05,  1.62981451e-09]])"
      ]
     },
     "execution_count": 407,
     "metadata": {},
     "output_type": "execute_result"
    }
   ],
   "source": [
    "next_m"
   ]
  },
  {
   "cell_type": "code",
   "execution_count": 372,
   "metadata": {},
   "outputs": [],
   "source": [
    "r = 2\n",
    "C1 = np.array([[1, 3, 4, 5, 0, 0, 0]])\n",
    "C2 = np.array([[0, 0, 0, 0, 4, 5, 2]])\n",
    "\n",
    "C1 = C1 / math.sqrt(r * 51/243)\n",
    "C2 = C2 / math.sqrt(r * (16+25+4)/243)\n",
    "\n",
    "C = np.vstack((C1, C2)).transpose()"
   ]
  },
  {
   "cell_type": "code",
   "execution_count": 468,
   "metadata": {},
   "outputs": [
    {
     "data": {
      "text/plain": [
       "array([[1.54348727, 0.        ],\n",
       "       [4.6304618 , 0.        ],\n",
       "       [6.17394907, 0.        ],\n",
       "       [7.71743633, 0.        ],\n",
       "       [0.        , 6.57267069],\n",
       "       [0.        , 8.21583836],\n",
       "       [0.        , 3.28633535]])"
      ]
     },
     "execution_count": 468,
     "metadata": {},
     "output_type": "execute_result"
    }
   ],
   "source": [
    "C"
   ]
  },
  {
   "cell_type": "code",
   "execution_count": 463,
   "metadata": {},
   "outputs": [],
   "source": [
    "R1 = np.array([[1, 1, 1, 0, 0]])\n",
    "R2 = np.array([[0, 0, 0, 2, 2]])\n",
    "\n",
    "R1 = R1 / math.sqrt(r * 3/243)\n",
    "R2 = R2 / math.sqrt(r * 8/243)\n",
    "\n",
    "R = np.vstack((R1, R2))"
   ]
  },
  {
   "cell_type": "code",
   "execution_count": 471,
   "metadata": {},
   "outputs": [
    {
     "data": {
      "text/plain": [
       "array([[6.36396103, 6.36396103, 6.36396103, 0.        , 0.        ],\n",
       "       [0.        , 0.        , 0.        , 7.79422863, 7.79422863]])"
      ]
     },
     "execution_count": 471,
     "metadata": {},
     "output_type": "execute_result"
    }
   ],
   "source": [
    "R"
   ]
  },
  {
   "cell_type": "code",
   "execution_count": 442,
   "metadata": {},
   "outputs": [],
   "source": [
    "W = np.array([[1, 0]\n",
    "             ,[0, 2]])"
   ]
  },
  {
   "cell_type": "code",
   "execution_count": 478,
   "metadata": {},
   "outputs": [
    {
     "data": {
      "text/plain": [
       "array([[ 9.82269281,  9.82269281,  9.82269281,  0.        ,  0.        ],\n",
       "       [29.46807844, 29.46807844, 29.46807844,  0.        ,  0.        ],\n",
       "       [39.29077126, 39.29077126, 39.29077126,  0.        ,  0.        ],\n",
       "       [49.11346407, 49.11346407, 49.11346407,  0.        ,  0.        ],\n",
       "       [ 0.        ,  0.        ,  0.        ,  3.20180613,  3.20180613],\n",
       "       [ 0.        ,  0.        ,  0.        ,  4.00225766,  4.00225766],\n",
       "       [ 0.        ,  0.        ,  0.        ,  1.60090307,  1.60090307]])"
      ]
     },
     "execution_count": 478,
     "metadata": {},
     "output_type": "execute_result"
    }
   ],
   "source": [
    "np.matmul(C, np.matmul(np.matmul(U, U), R))"
   ]
  },
  {
   "cell_type": "code",
   "execution_count": 459,
   "metadata": {},
   "outputs": [
    {
     "data": {
      "text/plain": [
       "array([[1.  , 0.  ],\n",
       "       [0.  , 0.25]])"
      ]
     },
     "execution_count": 459,
     "metadata": {},
     "output_type": "execute_result"
    }
   ],
   "source": [
    "U"
   ]
  },
  {
   "cell_type": "code",
   "execution_count": 216,
   "metadata": {},
   "outputs": [],
   "source": [
    "next_m = np.subtract(m, eigenvalue*np.matmul(x, np.transpose(x)))"
   ]
  },
  {
   "cell_type": "code",
   "execution_count": 217,
   "metadata": {},
   "outputs": [
    {
     "data": {
      "text/plain": [
       "array([[-2.41984877e-10, -4.63742655e-10, -4.23281410e-10,\n",
       "        -2.62214250e-10, -3.73096443e-10],\n",
       "       [-4.63742655e-10, -8.88707784e-10, -8.11174072e-10,\n",
       "        -5.02509423e-10, -7.14997367e-10],\n",
       "       [-4.23281410e-10, -8.11174072e-10, -7.40396189e-10,\n",
       "        -4.58668659e-10, -6.52613963e-10],\n",
       "       [-2.62214250e-10, -5.02509423e-10, -4.58668659e-10,\n",
       "        -2.84135382e-10, -4.04282385e-10],\n",
       "       [-3.73096443e-10, -7.14997367e-10, -6.52613963e-10,\n",
       "        -4.04282385e-10, -5.75235859e-10]])"
      ]
     },
     "execution_count": 217,
     "metadata": {},
     "output_type": "execute_result"
    }
   ],
   "source": [
    "next_m"
   ]
  },
  {
   "cell_type": "code",
   "execution_count": 479,
   "metadata": {},
   "outputs": [],
   "source": [
    "result = np.array([[2, 3]\n",
    "                  ,[3, 10]])"
   ]
  },
  {
   "cell_type": "code",
   "execution_count": 486,
   "metadata": {},
   "outputs": [],
   "source": [
    "v, w = LA.eig(b)"
   ]
  },
  {
   "cell_type": "code",
   "execution_count": 487,
   "metadata": {},
   "outputs": [
    {
     "data": {
      "text/plain": [
       "array([ 0.14344504, 34.85655496])"
      ]
     },
     "execution_count": 487,
     "metadata": {},
     "output_type": "execute_result"
    }
   ],
   "source": [
    "v"
   ]
  },
  {
   "cell_type": "code",
   "execution_count": 488,
   "metadata": {},
   "outputs": [
    {
     "data": {
      "text/plain": [
       "array([[-0.77512996, -0.63180182],\n",
       "       [ 0.63180182, -0.77512996]])"
      ]
     },
     "execution_count": 488,
     "metadata": {},
     "output_type": "execute_result"
    }
   ],
   "source": [
    "w"
   ]
  },
  {
   "cell_type": "code",
   "execution_count": 483,
   "metadata": {},
   "outputs": [],
   "source": [
    "a = np.array([[1, 1]\n",
    "             ,[2, 2]\n",
    "             ,[3, 4]])"
   ]
  },
  {
   "cell_type": "code",
   "execution_count": 485,
   "metadata": {},
   "outputs": [],
   "source": [
    "b= np.matmul(a.transpose(), a)"
   ]
  },
  {
   "cell_type": "code",
   "execution_count": 489,
   "metadata": {},
   "outputs": [
    {
     "data": {
      "text/plain": [
       "array([[14, 17],\n",
       "       [17, 21]])"
      ]
     },
     "execution_count": 489,
     "metadata": {},
     "output_type": "execute_result"
    }
   ],
   "source": [
    "b"
   ]
  },
  {
   "cell_type": "code",
   "execution_count": null,
   "metadata": {},
   "outputs": [],
   "source": []
  }
 ],
 "metadata": {
  "kernelspec": {
   "display_name": "Python 3",
   "language": "python",
   "name": "python3"
  },
  "language_info": {
   "codemirror_mode": {
    "name": "ipython",
    "version": 3
   },
   "file_extension": ".py",
   "mimetype": "text/x-python",
   "name": "python",
   "nbconvert_exporter": "python",
   "pygments_lexer": "ipython3",
   "version": "3.6.3"
  }
 },
 "nbformat": 4,
 "nbformat_minor": 2
}
