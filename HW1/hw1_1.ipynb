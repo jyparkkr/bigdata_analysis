{
 "cells": [
  {
   "cell_type": "code",
   "execution_count": 1,
   "metadata": {},
   "outputs": [],
   "source": [
    "import sys\n",
    "import re\n",
    "import os\n",
    "from pyspark import SparkConf, SparkContext\n"
   ]
  },
  {
   "cell_type": "code",
   "execution_count": 2,
   "metadata": {},
   "outputs": [],
   "source": [
    "conf = SparkConf()\n",
    "sc = SparkContext(conf=conf)\n",
    "sc.setLogLevel('WARN')\n",
    "loc = \"./soc-LiveJournal1Adj.txt\"\n",
    "#loc = sys.argv[1]\n",
    "\n",
    "lines = sc.textFile(loc, 1)\n"
   ]
  },
  {
   "cell_type": "code",
   "execution_count": 3,
   "metadata": {},
   "outputs": [],
   "source": [
    "line=list()\n",
    "line.append(lines.map(lambda l: re.split('\\t',l)))\n",
    "line.append(line[-1].mapValues(lambda l: re.split(',', l)))\n",
    "line.append(line[-1].filter(lambda x: x[1][0]!=''))\n",
    "line.append(line[-1].flatMap(lambda x: [(x[0],item) for item in x[1]]))\n",
    "line.append(line[-1].map(lambda x: (int(x[0]), int(x[1]))))\n",
    "line.append(line[-1].map(lambda x: (min(x[0], x[1]), max(x[0], x[1]))))\n",
    "line.append(line[-1].distinct().sortByKey())\n",
    "line.append(line[-1].groupByKey().mapValues(lambda x: set(x)))\n"
   ]
  },
  {
   "cell_type": "code",
   "execution_count": 4,
   "metadata": {},
   "outputs": [],
   "source": [
    "dic = line[-1].collectAsMap()\n"
   ]
  },
  {
   "cell_type": "code",
   "execution_count": 5,
   "metadata": {},
   "outputs": [],
   "source": [
    "def get_friend(pair):\n",
    "    target = pair[0]\n",
    "    friend = pair[1]\n",
    "    #friend: set, dic: friend dictionary\n",
    "    #global dic\n",
    "    #dic = {1: {2, 3, 4}, 2: {3, 5}, 3: {}}\n",
    "    friendnearby = set()\n",
    "    for f in friend:\n",
    "        try:\n",
    "            ff = dic[f]\n",
    "            friendnearby=friendnearby.union(ff)\n",
    "        except KeyError:\n",
    "            pass\n",
    "    friendnearby=friendnearby.difference(friend)\n",
    "    friendnearbylist = list(friendnearby)\n",
    "    friendnearbylist.sort()\n",
    "    \n",
    "    return (target, friendnearbylist)\n"
   ]
  },
  {
   "cell_type": "code",
   "execution_count": 6,
   "metadata": {},
   "outputs": [],
   "source": [
    "friend=list()\n",
    "friend.append(line[-1].map(get_friend))\n",
    "friend.append(friend[-1].flatMap(lambda x: [(x[0],item) for item in x[1]]))\n"
   ]
  },
  {
   "cell_type": "code",
   "execution_count": 7,
   "metadata": {},
   "outputs": [],
   "source": [
    "def get_mutual(pair):\n",
    "    f1 = pair[0]\n",
    "    f2 = pair[1]\n",
    "    try:\n",
    "        intersect = dic[f1]&dic[f2]\n",
    "        count = len(intersect)\n",
    "    except KeyError:\n",
    "        count = 0\n",
    "    return (count, (f1, f2))\n"
   ]
  },
  {
   "cell_type": "code",
   "execution_count": 8,
   "metadata": {},
   "outputs": [],
   "source": [
    "friend.append(friend[-1].map(get_mutual))\n",
    "friend.append(friend[-1].groupByKey().mapValues(lambda x: list(x)).sortByKey(ascending=0))\n"
   ]
  },
  {
   "cell_type": "code",
   "execution_count": 9,
   "metadata": {},
   "outputs": [],
   "source": [
    "def sort_ppl(x):\n",
    "    count = x[0]\n",
    "    ppl_list = x[1]\n",
    "    sorted_list = sorted(ppl_list, key=lambda tup: tup[0])\n",
    "    return (count, sorted_list)\n"
   ]
  },
  {
   "cell_type": "code",
   "execution_count": 10,
   "metadata": {},
   "outputs": [],
   "source": [
    "friend.append(friend[-1].map(sort_ppl))\n",
    "friend.append(friend[-1].flatMap(lambda x: [(x[0],item)                                            for item in x[1]]))\n",
    "friend.append(friend[-1].map(lambda x: (x[1][0], x[1][1], x[0])))\n",
    "friend.append(friend[-1].filter(lambda x: x[2]>0))\n"
   ]
  },
  {
   "cell_type": "code",
   "execution_count": 11,
   "metadata": {},
   "outputs": [],
   "source": [
    "def save(filename, contents):\n",
    "    fh = open(filename, 'w')\n",
    "    fh.write(contents)\n",
    "    fh.close()\n"
   ]
  },
  {
   "cell_type": "code",
   "execution_count": 12,
   "metadata": {},
   "outputs": [
    {
     "name": "stdout",
     "output_type": "stream",
     "text": [
      "18667 \t 18672 \t 84\n",
      "18667 \t 18675 \t 83\n",
      "18672 \t 18677 \t 83\n",
      "18672 \t 18678 \t 83\n",
      "18667 \t 18677 \t 82\n",
      "18675 \t 18677 \t 82\n",
      "31490 \t 31496 \t 82\n",
      "31491 \t 31496 \t 82\n",
      "18667 \t 18678 \t 81\n",
      "18675 \t 18678 \t 81\n"
     ]
    }
   ],
   "source": [
    "count=0\n",
    "st=''\n",
    "result = friend[-1].collect()\n",
    "for t in result:\n",
    "    st+=str(t[0])\n",
    "    st+='\\t'\n",
    "    st+=str(t[1])\n",
    "    st+='\\t'\n",
    "    st+=str(t[2])\n",
    "    st+='\\n'\n",
    "    if(count<10):\n",
    "        print(str(t[0]),'\\t',str(t[1]),'\\t',str(t[2]))\n",
    "    count+=1\n",
    "save('hw1-1.txt', st)\n"
   ]
  },
  {
   "cell_type": "code",
   "execution_count": 13,
   "metadata": {},
   "outputs": [],
   "source": [
    "sc.stop()\n"
   ]
  },
  {
   "cell_type": "code",
   "execution_count": null,
   "metadata": {},
   "outputs": [],
   "source": []
  }
 ],
 "metadata": {
  "kernelspec": {
   "display_name": "Python 3",
   "language": "python",
   "name": "python3"
  },
  "language_info": {
   "codemirror_mode": {
    "name": "ipython",
    "version": 3
   },
   "file_extension": ".py",
   "mimetype": "text/x-python",
   "name": "python",
   "nbconvert_exporter": "python",
   "pygments_lexer": "ipython3",
   "version": "3.7.3"
  }
 },
 "nbformat": 4,
 "nbformat_minor": 2
}
