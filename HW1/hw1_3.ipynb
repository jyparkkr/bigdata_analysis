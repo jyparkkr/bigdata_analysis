{
 "cells": [
  {
   "cell_type": "code",
   "execution_count": 1,
   "metadata": {},
   "outputs": [],
   "source": [
    "import sys\n",
    "import re\n",
    "import os\n",
    "from pyspark import SparkConf, SparkContext\n",
    "\n",
    "import random\n"
   ]
  },
  {
   "cell_type": "code",
   "execution_count": null,
   "metadata": {},
   "outputs": [],
   "source": [
    "conf = SparkConf()\n",
    "sc = SparkContext(conf=conf)\n",
    "sc.setLogLevel('WARN')\n",
    "\n",
    "loc = \"./articles.txt\"\n",
    "#loc = sys.argv[1]\n",
    "\n",
    "lines = sc.textFile(loc, 1)\n"
   ]
  },
  {
   "cell_type": "code",
   "execution_count": null,
   "metadata": {},
   "outputs": [],
   "source": [
    "## all modified lines are appended to list for easy debugging\n",
    "line=list()\n",
    "## this function is just for seperating document title from main article\n",
    "line.append(lines.map(lambda l: re.split(r'[^\\w]+',l)))\n",
    "line.append(line[-1].map(lambda x: (x[0], x[1:])))\n"
   ]
  },
  {
   "cell_type": "code",
   "execution_count": null,
   "metadata": {},
   "outputs": [],
   "source": [
    "## this function is for satisfying conditions from guideline\n",
    "## filtering non-alphabetic word / change to lowercase\n",
    "def get_wanted(x):\n",
    "    doc = x[0]\n",
    "    words = x[1]\n",
    "    filtered = list()\n",
    "    for w in words:\n",
    "        if w.isalpha():\n",
    "            filtered.append(w.lower())\n",
    "    return (doc, filtered)\n"
   ]
  },
  {
   "cell_type": "code",
   "execution_count": null,
   "metadata": {},
   "outputs": [],
   "source": [
    "line.append(line[-1].map(get_wanted))\n"
   ]
  },
  {
   "cell_type": "code",
   "execution_count": null,
   "metadata": {},
   "outputs": [],
   "source": [
    "def get_3_shingles(x):\n",
    "    shingles_set=set()\n",
    "    article_length = len(x)\n",
    "    for i in range(article_length-2):\n",
    "        shingles_set.add(x[i]+x[i+1]+x[i+2])\n",
    "    return shingles_set\n"
   ]
  },
  {
   "cell_type": "code",
   "execution_count": null,
   "metadata": {},
   "outputs": [],
   "source": [
    "line.append(line[-1].mapValues(lambda x: ' '.join(x)))\n",
    "line.append(line[-1].mapValues(get_3_shingles))\n",
    "\n",
    "shingles = line[-1].map(lambda x: x[1]).reduce(lambda v1, v2: v1|v2)\n"
   ]
  },
  {
   "cell_type": "code",
   "execution_count": null,
   "metadata": {},
   "outputs": [],
   "source": [
    "## shingles_dict and inv_dict is for changing shingles to index\n",
    "## (which is integer)\n",
    "## or vice versa\n",
    "shingles_dict=dict()\n",
    "inv_dict=dict()\n",
    "c=0\n",
    "for s in shingles:\n",
    "    shingles_dict[s]=c\n",
    "    inv_dict[c]=s\n",
    "    c+=1\n"
   ]
  },
  {
   "cell_type": "code",
   "execution_count": null,
   "metadata": {},
   "outputs": [],
   "source": [
    "def shingles_to_hash(x):\n",
    "    hashed=set()\n",
    "    for s in x:\n",
    "        hashed.add(shingles_dict[s])\n",
    "    return hashed\n"
   ]
  },
  {
   "cell_type": "code",
   "execution_count": null,
   "metadata": {},
   "outputs": [],
   "source": [
    "def hash_to_shingles(x):\n",
    "    shingles=set()\n",
    "    for h in x:\n",
    "        shingles.add(inv_dict[h])\n",
    "    return shingles\n"
   ]
  },
  {
   "cell_type": "code",
   "execution_count": null,
   "metadata": {},
   "outputs": [],
   "source": [
    "## characteristic matrix\n",
    "c_matrix = line[-1].mapValues(shingles_to_hash)\n"
   ]
  },
  {
   "cell_type": "markdown",
   "metadata": {},
   "source": [
    "number of shingles are 8181\n",
    "\n",
    "n = 120 (wanted hash funcion row)\n",
    "\n",
    "b = 6\n",
    "\n",
    "r = 20\n",
    "(for threshold to be about 0.9)\n",
    "\n",
    " \n",
    "len(shingles_dict) = 8181\n",
    "\n",
    "c = 8191 (smallest prime >= 8181)\n",
    " \n",
    "a = random.randint(1, c) #cannot hash if a = 0\n",
    " \n",
    "b = random.randint(0, c)\n"
   ]
  },
  {
   "cell_type": "code",
   "execution_count": null,
   "metadata": {},
   "outputs": [],
   "source": [
    "def isPrime(n):\n",
    "    if n < 2: return False\n",
    "    for x in range(2, int(n**0.5) + 1):\n",
    "        if n % x == 0:\n",
    "            return False\n",
    "    return True\n"
   ]
  },
  {
   "cell_type": "code",
   "execution_count": null,
   "metadata": {},
   "outputs": [],
   "source": [
    "def generate_random_hash():\n",
    "    n = len(shingles_dict)\n",
    "    c = n\n",
    "    while not isPrime(c):\n",
    "        c+=1\n",
    "    a = random.randint(1, c-1)\n",
    "    b = random.randint(0, c-1)\n",
    "    order=list()\n",
    "    for i in range(n):\n",
    "        h=(a*i+b)%c\n",
    "        order.append(h)\n",
    "    return order\n"
   ]
  },
  {
   "cell_type": "code",
   "execution_count": null,
   "metadata": {},
   "outputs": [],
   "source": [
    "def get_hash_value(hash_list, x_set):\n",
    "    c=0\n",
    "    for x in hash_list:\n",
    "        if x in x_set:\n",
    "            return c\n",
    "        c+=1\n"
   ]
  },
  {
   "cell_type": "code",
   "execution_count": null,
   "metadata": {},
   "outputs": [],
   "source": [
    "def make_list(x):\n",
    "    title=x[0]\n",
    "    value=x[1]\n",
    "    hashed=value[0]\n",
    "    added=value[1]\n",
    "    hashed.append(added)\n",
    "    return (title, hashed)\n"
   ]
  },
  {
   "cell_type": "code",
   "execution_count": null,
   "metadata": {},
   "outputs": [],
   "source": [
    "sig_mat=list()\n",
    "for b in range(6):\n",
    "    row = c_matrix.mapValues(lambda x: list()) #for initialization\n",
    "    for r in range(20):\n",
    "        h = generate_random_hash()\n",
    "        row = row.join(c_matrix.mapValues(lambda x: get_hash_value(h, x)))\n",
    "        row = row.map(make_list)\n",
    "    sig_mat.append(row)\n"
   ]
  },
  {
   "cell_type": "code",
   "execution_count": null,
   "metadata": {},
   "outputs": [],
   "source": [
    "## sig_list1,2,... are for modifying band/row\n",
    "sig_list1=list()\n",
    "for b in sig_mat:\n",
    "    b1 = b.map(lambda x: (tuple(x[1]), x[0]))\n",
    "    sig_list1.append(b1)\n"
   ]
  },
  {
   "cell_type": "code",
   "execution_count": null,
   "metadata": {},
   "outputs": [],
   "source": [
    "sig_list2=list()\n",
    "for b in sig_list1:\n",
    "    b1 = b.groupByKey().mapValues(lambda x: set(x))\n",
    "    sig_list2.append(b1)\n"
   ]
  },
  {
   "cell_type": "code",
   "execution_count": null,
   "metadata": {},
   "outputs": [],
   "source": [
    "sig_list3=list()\n",
    "for b in sig_list2:\n",
    "    b1 = b.filter(lambda x: len(x[1])>1)\n",
    "    sig_list3.append(b1)\n"
   ]
  },
  {
   "cell_type": "code",
   "execution_count": null,
   "metadata": {},
   "outputs": [],
   "source": [
    "sig_list4=list()\n",
    "for b in sig_list3:\n",
    "    b1 = b.map(lambda x: x[1])\n",
    "    sig_list4.append(b1)\n"
   ]
  },
  {
   "cell_type": "code",
   "execution_count": null,
   "metadata": {},
   "outputs": [],
   "source": [
    "sig_list=0\n",
    "for i in sig_list4:\n",
    "    if sig_list==0:\n",
    "        sig_list=i\n",
    "    else:\n",
    "        sig_list=sig_list.union(i)\n"
   ]
  },
  {
   "cell_type": "code",
   "execution_count": null,
   "metadata": {},
   "outputs": [],
   "source": [
    "sig_list=sig_list.map(lambda x: list(x)).map(lambda x:(min(x[0], x[1]), max(x[0], x[1])))\n",
    "sig_list=sig_list.distinct()\n",
    "\n",
    "sig_pair=sig_list.collect()\n"
   ]
  },
  {
   "cell_type": "code",
   "execution_count": null,
   "metadata": {},
   "outputs": [],
   "source": [
    "## get number of same object from two lists\n",
    "def get_same(x):\n",
    "    if(len(x[0])!=len(x[1])):\n",
    "        return 0\n",
    "    length = len(x[0])\n",
    "    c=0\n",
    "    for i in range(length):\n",
    "        if x[0][i]== x[1][i]:\n",
    "            c+=1\n",
    "    return c\n"
   ]
  },
  {
   "cell_type": "code",
   "execution_count": null,
   "metadata": {},
   "outputs": [],
   "source": [
    "result=list()\n",
    "for pair in sig_pair:\n",
    "    a1=min(pair[0],pair[1])\n",
    "    a2=max(pair[0],pair[1])\n",
    "    a1_hash=list()\n",
    "    a2_hash=list()\n",
    "    sim = 0 ## similarity\n",
    "    for b in sig_mat:\n",
    "        b1 = b.filter(lambda x: x[0] in pair)\n",
    "        b2 = b1.map(lambda x: x[1])\n",
    "        b3 = b2.collect()\n",
    "        sim+=get_same(b3)\n",
    "    result.append((a1, a2, sim/120))\n"
   ]
  },
  {
   "cell_type": "code",
   "execution_count": null,
   "metadata": {},
   "outputs": [],
   "source": [
    "sorted_result = sorted(result, key=lambda x: x[2], reverse=1)\n"
   ]
  },
  {
   "cell_type": "code",
   "execution_count": null,
   "metadata": {},
   "outputs": [],
   "source": [
    "def save(filename, contents):\n",
    "    fh = open(filename, 'w')\n",
    "    fh.write(contents)\n",
    "    fh.close()\n"
   ]
  },
  {
   "cell_type": "code",
   "execution_count": null,
   "metadata": {},
   "outputs": [],
   "source": [
    "st=str()\n",
    "for p in sorted_result:\n",
    "    st+=str(p[0])\n",
    "    st+='\\t'\n",
    "    st+=str(p[1])\n",
    "    st+='\\t'\n",
    "    st+=str(p[2])\n",
    "    st+='\\n'\n",
    "    print(f\"{p[0]}\\t{p[1]}\\t{p[2]:.4f}\")\n",
    "    \n"
   ]
  },
  {
   "cell_type": "code",
   "execution_count": null,
   "metadata": {},
   "outputs": [],
   "source": [
    "save('3-b.txt', st)\n",
    "sc.stop()\n"
   ]
  },
  {
   "cell_type": "code",
   "execution_count": null,
   "metadata": {},
   "outputs": [],
   "source": []
  },
  {
   "cell_type": "code",
   "execution_count": null,
   "metadata": {},
   "outputs": [],
   "source": []
  },
  {
   "cell_type": "code",
   "execution_count": null,
   "metadata": {},
   "outputs": [],
   "source": []
  }
 ],
 "metadata": {
  "kernelspec": {
   "display_name": "Python 3",
   "language": "python",
   "name": "python3"
  },
  "language_info": {
   "codemirror_mode": {
    "name": "ipython",
    "version": 3
   },
   "file_extension": ".py",
   "mimetype": "text/x-python",
   "name": "python",
   "nbconvert_exporter": "python",
   "pygments_lexer": "ipython3",
   "version": "3.7.3"
  }
 },
 "nbformat": 4,
 "nbformat_minor": 2
}
