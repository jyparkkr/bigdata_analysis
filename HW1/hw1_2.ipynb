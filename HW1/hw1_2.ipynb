{
 "cells": [
  {
   "cell_type": "code",
   "execution_count": 1,
   "metadata": {},
   "outputs": [],
   "source": [
    "import sys\n",
    "import re\n",
    "import os\n",
    "from pyspark import SparkConf, SparkContext\n"
   ]
  },
  {
   "cell_type": "code",
   "execution_count": 2,
   "metadata": {},
   "outputs": [],
   "source": [
    "conf = SparkConf()\n",
    "sc = SparkContext(conf=conf)\n",
    "sc.setLogLevel('WARN')\n",
    "loc = \"./browsing.txt\"\n",
    "#loc = sys.argv[1]\n",
    "\n",
    "lines = sc.textFile(loc, 1)\n",
    "threshold = 200\n"
   ]
  },
  {
   "cell_type": "code",
   "execution_count": 3,
   "metadata": {},
   "outputs": [],
   "source": [
    "## all modified lines are appended to list for easy debugging\n",
    "## elem is for frequent_set; check whether each element is more than threshold\n",
    "elem=list()\n",
    "elem.append(lines.map(lambda l: re.split('\\s',l)).map(lambda l: set(l[:-1])))\n",
    "elem.append(elem[-1].flatMap(lambda x: [(item, 1) for item in x]))\n",
    "elem.append(elem[-1].reduceByKey(lambda x, y: x+y))\n",
    "elem.append(elem[-1].filter(lambda x: x[1]>=threshold))\n",
    "elem.append(elem[-1].map(lambda x: x[0]))\n"
   ]
  },
  {
   "cell_type": "code",
   "execution_count": 4,
   "metadata": {},
   "outputs": [],
   "source": [
    "freq_set = set(elem[-1].collect())\n"
   ]
  },
  {
   "cell_type": "code",
   "execution_count": 5,
   "metadata": {},
   "outputs": [],
   "source": [
    "## line is for getting pair which are both frequent\n",
    "line=list()\n",
    "line.append(elem[0].map(lambda x: x.intersection(freq_set)))\n"
   ]
  },
  {
   "cell_type": "code",
   "execution_count": 6,
   "metadata": {},
   "outputs": [],
   "source": [
    "## freq_dict and inv_dict is for changing items to index(which is integer)\n",
    "## or vice versa\n",
    "freq_list = list(freq_set)\n",
    "freq_list.sort()\n",
    "freq_dict = dict()\n",
    "inv_dict = dict()\n",
    "i = 0\n",
    "for item in freq_list:\n",
    "    freq_dict[item]=i\n",
    "    inv_dict[i]=item\n",
    "    i+=1\n"
   ]
  },
  {
   "cell_type": "code",
   "execution_count": 7,
   "metadata": {},
   "outputs": [],
   "source": [
    "def change_to_index(x):\n",
    "    index_set = set()\n",
    "    for item in x:\n",
    "        index_set.add(freq_dict[item])\n",
    "    return index_set\n"
   ]
  },
  {
   "cell_type": "code",
   "execution_count": 8,
   "metadata": {},
   "outputs": [],
   "source": [
    "line.append(line[-1].map(change_to_index))\n",
    "freqline=line[-1].collect()\n"
   ]
  },
  {
   "cell_type": "code",
   "execution_count": 9,
   "metadata": {},
   "outputs": [],
   "source": [
    "f = len(freq_set)\n",
    "tri_mat = list()\n",
    "for i in range(f):\n",
    "    for j in range(i+1, f):\n",
    "        #print(i, j)\n",
    "        count = 0\n",
    "        for bucket in freqline:\n",
    "            if {i, j}.issubset(bucket):\n",
    "                count+=1\n",
    "                #print(\"count: \",count)\n",
    "        tri_mat.append(count)\n",
    "        #print(i, j)\n"
   ]
  },
  {
   "cell_type": "code",
   "execution_count": 10,
   "metadata": {},
   "outputs": [],
   "source": [
    "from math import sqrt\n",
    "def get_idx(c, frq_len):\n",
    "    i=0\n",
    "    line = frq_len - 1\n",
    "    while((c-line)>=0):\n",
    "        c-=line\n",
    "        line-=1\n",
    "        i+=1\n",
    "    j=i+c+1\n",
    "    return (-i, -j)\n",
    "    ## returning negative value for reverse sorting\n",
    "    ## value: descending, id: ascending\n"
   ]
  },
  {
   "cell_type": "code",
   "execution_count": 11,
   "metadata": {},
   "outputs": [],
   "source": [
    "idx=0\n",
    "frq_list=list()\n",
    "for count in tri_mat:\n",
    "    if count>threshold:\n",
    "        frq_list.append((get_idx(idx, len(freq_dict)), count))\n",
    "    idx+=1\n",
    "\n",
    "neg_sorted_list = sorted(frq_list, key=lambda tup: (tup[1], tup[0][0]), reverse=1)\n"
   ]
  },
  {
   "cell_type": "code",
   "execution_count": 12,
   "metadata": {},
   "outputs": [],
   "source": [
    "sorted_list = list(map(lambda x: ((-x[0][0], -x[0][1]), x[1]), neg_sorted_list))\n",
    "translated_list = list(map(lambda x: ((inv_dict[x[0][0]], inv_dict[x[0][1]]), x[1]), sorted_list))\n"
   ]
  },
  {
   "cell_type": "code",
   "execution_count": 13,
   "metadata": {},
   "outputs": [],
   "source": [
    "def save(filename, contents):\n",
    "    fh = open(filename, 'w')\n",
    "    fh.write(contents)\n",
    "    fh.close()\n"
   ]
  },
  {
   "cell_type": "code",
   "execution_count": 14,
   "metadata": {},
   "outputs": [
    {
     "name": "stdout",
     "output_type": "stream",
     "text": [
      "number of frequent items:  363\n",
      "number of frequent pairs:  326\n",
      "DAI62779 \t ELE17451 \t 1592\n",
      "FRO40251 \t SNA80324 \t 1412\n",
      "DAI75645 \t FRO40251 \t 1254\n",
      "FRO40251 \t GRO85051 \t 1213\n",
      "DAI62779 \t GRO73461 \t 1139\n",
      "DAI75645 \t SNA80324 \t 1130\n",
      "DAI62779 \t FRO40251 \t 1070\n",
      "DAI62779 \t SNA80324 \t 923\n",
      "DAI62779 \t DAI85309 \t 918\n",
      "ELE32164 \t GRO59710 \t 911\n"
     ]
    }
   ],
   "source": [
    "st=str()\n",
    "\n",
    "print(\"number of frequent items: \",len(freq_dict))\n",
    "st+=\"number of frequent items: \"\n",
    "st+=str(len(freq_dict))\n",
    "st+='\\n'\n",
    "print(\"number of frequent pairs: \",len(translated_list))\n",
    "st+=\"number of frequent pairs: \"\n",
    "st+=str(len(translated_list))\n",
    "st+='\\n'\n",
    "\n",
    "c=0\n",
    "for t in translated_list:\n",
    "    st+=t[0][0]\n",
    "    st+='\\t'\n",
    "    st+=t[0][1]\n",
    "    st+='\\t'\n",
    "    st+=str(t[1])\n",
    "    st+='\\n'\n",
    "    if(c<10):\n",
    "        print(str(t[0][0]),'\\t',str(t[0][1]),'\\t',str(t[1]))\n",
    "    c+=1\n",
    "    if(c>=10):\n",
    "        break\n"
   ]
  },
  {
   "cell_type": "code",
   "execution_count": 15,
   "metadata": {},
   "outputs": [],
   "source": [
    "save('2-b.txt', st)\n",
    "sc.stop()\n"
   ]
  },
  {
   "cell_type": "code",
   "execution_count": null,
   "metadata": {},
   "outputs": [],
   "source": []
  }
 ],
 "metadata": {
  "kernelspec": {
   "display_name": "Python 3",
   "language": "python",
   "name": "python3"
  },
  "language_info": {
   "codemirror_mode": {
    "name": "ipython",
    "version": 3
   },
   "file_extension": ".py",
   "mimetype": "text/x-python",
   "name": "python",
   "nbconvert_exporter": "python",
   "pygments_lexer": "ipython3",
   "version": "3.7.3"
  }
 },
 "nbformat": 4,
 "nbformat_minor": 2
}
