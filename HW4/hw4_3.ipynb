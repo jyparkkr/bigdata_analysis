{
 "cells": [
  {
   "cell_type": "code",
   "execution_count": 1,
   "metadata": {},
   "outputs": [],
   "source": [
    "import math\n",
    "\n",
    "import sys\n",
    "import os"
   ]
  },
  {
   "cell_type": "code",
   "execution_count": 2,
   "metadata": {},
   "outputs": [],
   "source": [
    "loc = \"./sample.txt\"\n",
    "#loc = sys.argv[1]\n",
    "\n",
    "#k_list = sys.argv[2:]\n"
   ]
  },
  {
   "cell_type": "code",
   "execution_count": 3,
   "metadata": {},
   "outputs": [],
   "source": [
    "stream = open(loc, \"r\")"
   ]
  },
  {
   "cell_type": "code",
   "execution_count": 4,
   "metadata": {},
   "outputs": [],
   "source": [
    "c = 0\n",
    "j = 0\n",
    "window = list()\n",
    "while True:\n",
    "    line = stream.readline()\n",
    "    if not line:\n",
    "        break\n",
    "    label = int(line)\n",
    "    #print(label)\n",
    "    if label:\n",
    "        if(len(window)==0):\n",
    "            window.append([c])\n",
    "            c+=1\n",
    "            continue\n",
    "        i = 0\n",
    "        window[i].insert(0, c)\n",
    "        while(len(window[i]) == 3):\n",
    "            window[i].pop()\n",
    "            temp = window[i].pop()\n",
    "            i += 1\n",
    "            if(i == len(window)):\n",
    "                window.append([temp])\n",
    "                \n",
    "            else:\n",
    "                window[i].insert(0, temp)\n",
    "\n",
    "    c+=1\n",
    "    \n",
    "stream.close()"
   ]
  },
  {
   "cell_type": "code",
   "execution_count": 5,
   "metadata": {},
   "outputs": [],
   "source": [
    "def nextp(p, i, win = window):\n",
    "    if(p == win[i][0]):\n",
    "        if(len(win[i])==2):\n",
    "            return (win[i][1], i)\n",
    "    \n",
    "    i+=1\n",
    "    if(len(win)==i):\n",
    "        return (-1, i)\n",
    "    \n",
    "    return (win[i][0], i)\n",
    "    "
   ]
  },
  {
   "cell_type": "code",
   "execution_count": 7,
   "metadata": {},
   "outputs": [
    {
     "name": "stdout",
     "output_type": "stream",
     "text": [
      "1\n",
      "2\n",
      "3\n",
      "3\n",
      "6\n",
      "6\n",
      "6\n",
      "6\n",
      "10\n",
      "10\n",
      "10\n",
      "10\n",
      "16\n",
      "16\n",
      "16\n",
      "16\n",
      "16\n",
      "16\n",
      "16\n",
      "16\n"
     ]
    }
   ],
   "source": [
    "for k in k_list:\n",
    "    find_until = c - k\n",
    "    i = 0\n",
    "    s = 0 ## estimated number of 1 in last k bits\n",
    "    point = window[i][0]\n",
    "    while(point >= find_until):\n",
    "        if nextp(point, i)[0] < find_until:\n",
    "            s += math.ceil(2**(i-1))\n",
    "        else:\n",
    "            s += math.ceil(2**i)\n",
    "        (point, i) = nextp(point, i)\n",
    "    \n",
    "    #print(k,s,i)\n",
    "    print(s)"
   ]
  }
 ],
 "metadata": {
  "kernelspec": {
   "display_name": "Python 3",
   "language": "python",
   "name": "python3"
  },
  "language_info": {
   "codemirror_mode": {
    "name": "ipython",
    "version": 3
   },
   "file_extension": ".py",
   "mimetype": "text/x-python",
   "name": "python",
   "nbconvert_exporter": "python",
   "pygments_lexer": "ipython3",
   "version": "3.6.3"
  }
 },
 "nbformat": 4,
 "nbformat_minor": 2
}
