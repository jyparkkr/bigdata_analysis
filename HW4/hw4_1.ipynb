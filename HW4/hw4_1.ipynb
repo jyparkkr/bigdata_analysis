{
 "cells": [
  {
   "cell_type": "code",
   "execution_count": 1,
   "metadata": {},
   "outputs": [],
   "source": [
    "import numpy as np\n",
    "import functools\n",
    "\n",
    "import sys\n",
    "import os\n"
   ]
  },
  {
   "cell_type": "code",
   "execution_count": 2,
   "metadata": {},
   "outputs": [],
   "source": [
    "X_input = \"./features.txt\"\n",
    "#X_input = sys.argv[1]\n",
    "\n",
    "Y_input = \"./labels.txt\"\n",
    "#Y_input = sys.argv[2]\n"
   ]
  },
  {
   "cell_type": "code",
   "execution_count": 3,
   "metadata": {},
   "outputs": [],
   "source": [
    "datasets = open(X_input, \"r\")\n",
    "X_initial = np.genfromtxt(datasets, delimiter=',')\n",
    "\n",
    "add_one = np.ones(6000).reshape(6000, 1)\n",
    "\n",
    "labels = open(Y_input, \"r\")\n",
    "y = np.genfromtxt(labels, delimiter=',')\n",
    "\n",
    "\n",
    "datasets.close()\n",
    "labels.close()\n",
    "\n",
    "X = np.hstack((X_initial, add_one))"
   ]
  },
  {
   "cell_type": "code",
   "execution_count": 4,
   "metadata": {},
   "outputs": [],
   "source": [
    "eta = 10**-5\n",
    "C = 1\n",
    "\n",
    "mu, sigma = 0, 2\n",
    "W = list()\n",
    "\n",
    "accuracy = list()"
   ]
  },
  {
   "cell_type": "code",
   "execution_count": 5,
   "metadata": {},
   "outputs": [],
   "source": [
    "def training(idx, weight):\n",
    "    grad = abs(weight)\n",
    "    for i in idx:\n",
    "        if(y[i] * np.dot(weight, X[i]) < 1):\n",
    "            grad -= C * y[i] * X[i]\n",
    "    weight -= eta * grad"
   ]
  },
  {
   "cell_type": "code",
   "execution_count": 6,
   "metadata": {},
   "outputs": [],
   "source": [
    "def testing(idx, weight):\n",
    "    c = 0\n",
    "    for i in idx:\n",
    "        if(y[i] * np.dot(weight, X[i]) > 0):\n",
    "            c += 1\n",
    "    return c/len(idx)\n",
    "    "
   ]
  },
  {
   "cell_type": "code",
   "execution_count": 9,
   "metadata": {},
   "outputs": [
    {
     "name": "stdout",
     "output_type": "stream",
     "text": [
      "Accuracy: 0.820\n",
      "Accuracy: 0.818\n",
      "Accuracy: 0.820\n",
      "Accuracy: 0.822\n",
      "Accuracy: 0.823\n",
      "Accuracy: 0.827\n",
      "Accuracy: 0.827\n",
      "Accuracy: 0.828\n",
      "Accuracy: 0.828\n",
      "Accuracy: 0.825\n",
      "Accuracy: 0.825\n",
      "Accuracy: 0.827\n",
      "Accuracy: 0.830\n",
      "Accuracy: 0.832\n",
      "Accuracy: 0.832\n",
      "Accuracy: 0.833\n",
      "Accuracy: 0.833\n",
      "Accuracy: 0.833\n",
      "Accuracy: 0.832\n",
      "Accuracy: 0.832\n",
      "Accuracy: 0.832\n",
      "Accuracy: 0.832\n",
      "Accuracy: 0.833\n",
      "Accuracy: 0.837\n",
      "Accuracy: 0.833\n",
      "Accuracy: 0.837\n",
      "Accuracy: 0.838\n",
      "Accuracy: 0.840\n",
      "Accuracy: 0.840\n",
      "Accuracy: 0.840\n",
      "Accuracy: 0.840\n",
      "Accuracy: 0.840\n",
      "Accuracy: 0.842\n",
      "Accuracy: 0.842\n",
      "Accuracy: 0.842\n",
      "Accuracy: 0.842\n",
      "Accuracy: 0.842\n",
      "Accuracy: 0.842\n",
      "Accuracy: 0.842\n",
      "Accuracy: 0.842\n",
      "Accuracy: 0.842\n",
      "Accuracy: 0.842\n",
      "Accuracy: 0.838\n",
      "Accuracy: 0.838\n",
      "Accuracy: 0.838\n",
      "Accuracy: 0.838\n",
      "Accuracy: 0.838\n",
      "Accuracy: 0.838\n"
     ]
    }
   ],
   "source": [
    "for i in range(10):\n",
    "    test = list(range(600*i,600*(i+1)))\n",
    "    train1 = list(range(0, 600*i))\n",
    "    train2 = list(range(600*(i+1), 6000))\n",
    "    train = train1 + train2\n",
    "    \"\"\"i th weight matrix would be W[i]\"\"\"\n",
    "    W.append(np.random.normal(mu, sigma, 123))\n",
    "\n",
    "    c = 0\n",
    "    max_acc = 0\n",
    "    it = 0\n",
    "    while(c<10000):\n",
    "        training(train, W[i])\n",
    "        if(c%100 == 0):\n",
    "            acc = testing(test,W[i])\n",
    "            print(\"Accuracy: %1.3f\" %acc)\n",
    "            if(acc > max_acc):\n",
    "                max_acc = acc\n",
    "                it = 0\n",
    "            it += 1\n",
    "            if(it > 15):\n",
    "                break\n",
    "            ##print(it)\n",
    "        c+=1\n",
    "    accuracy.append(acc)\n",
    "    break"
   ]
  },
  {
   "cell_type": "code",
   "execution_count": 8,
   "metadata": {},
   "outputs": [
    {
     "name": "stdout",
     "output_type": "stream",
     "text": [
      "<0.82000>\n",
      "<1.00000>\n",
      "<0.00001>\n"
     ]
    }
   ],
   "source": [
    "final_acc = functools.reduce(lambda x, y: x+y, accuracy) / len(accuracy)\n",
    "print(\"<%1.5f>\" %final_acc)\n",
    "print(\"<%1.5f>\" %C)\n",
    "print(\"<%1.5f>\" %eta)\n"
   ]
  },
  {
   "cell_type": "code",
   "execution_count": null,
   "metadata": {},
   "outputs": [],
   "source": []
  },
  {
   "cell_type": "code",
   "execution_count": null,
   "metadata": {},
   "outputs": [],
   "source": []
  }
 ],
 "metadata": {
  "kernelspec": {
   "display_name": "Python 3",
   "language": "python",
   "name": "python3"
  },
  "language_info": {
   "codemirror_mode": {
    "name": "ipython",
    "version": 3
   },
   "file_extension": ".py",
   "mimetype": "text/x-python",
   "name": "python",
   "nbconvert_exporter": "python",
   "pygments_lexer": "ipython3",
   "version": "3.6.3"
  }
 },
 "nbformat": 4,
 "nbformat_minor": 2
}
